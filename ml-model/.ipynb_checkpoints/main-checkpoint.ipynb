{
 "cells": [
  {
   "cell_type": "code",
   "execution_count": 1,
   "id": "8a2d4af1",
   "metadata": {},
   "outputs": [],
   "source": [
    "import os\n",
    "import base64\n",
    "import json\n",
    "from dotenv import load_dotenv\n",
    "from requests import post, get, put"
   ]
  },
  {
   "cell_type": "code",
   "execution_count": 2,
   "id": "c7eff307",
   "metadata": {},
   "outputs": [],
   "source": [
    "import pandas as pd\n",
    "import numpy as np"
   ]
  },
  {
   "cell_type": "code",
   "execution_count": 3,
   "id": "4ea6d963",
   "metadata": {},
   "outputs": [],
   "source": [
    "load_dotenv()\n",
    "\n",
    "client_id = os.getenv(\"CLIENT_ID\")\n",
    "client_secret = os.getenv(\"CLIENT_SECRET\")\n",
    "access_token_url = os.getenv(\"ACCESS_TOKEN_URL\")"
   ]
  },
  {
   "cell_type": "code",
   "execution_count": 4,
   "id": "feec5572",
   "metadata": {},
   "outputs": [
    {
     "name": "stdout",
     "output_type": "stream",
     "text": [
      "CLIENT ID: 5ab8a76b4e1f475abf3c051e9a54a17d\n",
      "CLIENT SECRET: 67e686e9b12743c489db22afe1bd8f7e\n"
     ]
    }
   ],
   "source": [
    "print(f\"CLIENT ID: {client_id}\")\n",
    "print(f\"CLIENT SECRET: {client_secret}\")"
   ]
  },
  {
   "cell_type": "code",
   "execution_count": 5,
   "id": "30d3591c",
   "metadata": {},
   "outputs": [],
   "source": [
    "def get_token(client_id, client_secret):\n",
    "    data = {\n",
    "        \"grant_type\": \"client_credentials\",\n",
    "        \"client_id\": client_id,\n",
    "        \"client_secret\": client_secret,\n",
    "        \"scopes\": \"user-library-read user-modify-playback-state user-read-playback-state user-read-currently-playing\"\n",
    "    }\n",
    "    \n",
    "    result = post(access_token_url, data)\n",
    "    json_result = result.json()\n",
    "    token = json_result[\"access_token\"]\n",
    "    \n",
    "    return token"
   ]
  },
  {
   "cell_type": "code",
   "execution_count": 6,
   "id": "6be284f4",
   "metadata": {},
   "outputs": [
    {
     "name": "stdout",
     "output_type": "stream",
     "text": [
      "BQCLpln06ey_OsxH64XOdm95B9jREqU0aRMZmcBn4_gQJFaFjRr1x_bwcbJ6QOGdhnv7NrMPSvJJwznhbYrqJi5OUoJeySrpDwO4wBTonDaNCt5cDYwAIxp7EQbsI83W4cQr7NEx\n"
     ]
    }
   ],
   "source": [
    "token = get_token(client_id, client_secret)\n",
    "print(token)"
   ]
  },
  {
   "cell_type": "code",
   "execution_count": 7,
   "id": "129514b3",
   "metadata": {},
   "outputs": [],
   "source": [
    "def get_auth_header(token):\n",
    "    return {'Content-Type': 'application/json',\n",
    "            \"Authorization\": \"Bearer {token}\".format(token=token)}"
   ]
  },
  {
   "cell_type": "code",
   "execution_count": 8,
   "id": "328f9aca",
   "metadata": {},
   "outputs": [],
   "source": [
    "def serach_for_artist(token, artist_name, serach_results):\n",
    "    url = \"https://api.spotify.com/v1/search\"\n",
    "    headers = get_auth_header(token)\n",
    "    \n",
    "    query = f\"?q={artist_name}&type=artist&limit={serach_results}\"\n",
    "    query_url = url + query\n",
    "    \n",
    "    result = get(query_url, headers=headers)\n",
    "    json_result = result.json()[\"artists\"][\"items\"]\n",
    "    if len(json_result) == 0:\n",
    "        print(\"No artist found with that name...\")\n",
    "        return None\n",
    "    \n",
    "    return json_result"
   ]
  },
  {
   "cell_type": "code",
   "execution_count": 9,
   "id": "0655f2f5",
   "metadata": {},
   "outputs": [],
   "source": [
    "def get_top_tracks_by_artist(token, artist_id, country):\n",
    "    url = f\"https://api.spotify.com/v1/artists/{artist_id}/top-tracks?country={country}\"\n",
    "    headers = get_auth_header(token)\n",
    "    \n",
    "    result = get(url, headers=headers)\n",
    "    json_result = result.json()[\"tracks\"]\n",
    "    return json_result"
   ]
  },
  {
   "cell_type": "code",
   "execution_count": 10,
   "id": "600ab6d0",
   "metadata": {},
   "outputs": [],
   "source": [
    "def pause(token):\n",
    "    url = \"https://api.spotify.com/v1/me/player/pause\"\n",
    "    headers = get_auth_header(token)\n",
    "    \n",
    "    put(url, headers=headers)\n",
    "    \n",
    "pause(token)"
   ]
  },
  {
   "cell_type": "code",
   "execution_count": 28,
   "id": "cc9eb013",
   "metadata": {},
   "outputs": [
    {
     "name": "stdout",
     "output_type": "stream",
     "text": [
      "<Response [401]>\n"
     ]
    }
   ],
   "source": [
    "def play(token):\n",
    "    url = \"https://api.spotify.com/v1/me/player/play\"\n",
    "    headers = get_auth_header(token)\n",
    "    \n",
    "    print(put(url, headers=headers).json())\n",
    "    \n",
    "play(token)"
   ]
  },
  {
   "cell_type": "code",
   "execution_count": 12,
   "id": "7ca888cf",
   "metadata": {},
   "outputs": [],
   "source": [
    "def get_track_info(token, track_id):\n",
    "    url = f\"https://api.spotify.com/v1/audio-features/{track_id}\"\n",
    "    headers = get_auth_header(token)\n",
    "    \n",
    "    result = get(url, headers=headers)\n",
    "    json_result = result.json()\n",
    "    return json_result"
   ]
  },
  {
   "cell_type": "code",
   "execution_count": 13,
   "id": "dc07c8a1",
   "metadata": {},
   "outputs": [],
   "source": [
    "def get_user_profile(token, user_id):\n",
    "    url = f\"https://api.spotify.com/v1/users/{user_id}\"\n",
    "    headers = get_auth_header(token)\n",
    "    \n",
    "    result = get(url, headers=headers)\n",
    "    json_result = result.json()\n",
    "    return json_result"
   ]
  },
  {
   "cell_type": "code",
   "execution_count": 14,
   "id": "e404c28a",
   "metadata": {},
   "outputs": [],
   "source": [
    "def get_my_profile(token):\n",
    "    url = f\"https://api.spotify.com/v1/me\"\n",
    "    headers = get_auth_header(token)\n",
    "    result = get(url, headers=headers)\n",
    "    json_result = result.json()\n",
    "    return json_result"
   ]
  },
  {
   "cell_type": "code",
   "execution_count": 15,
   "id": "4ab0f0c8",
   "metadata": {},
   "outputs": [],
   "source": [
    "def get_user_playlists(token, user_id, count):\n",
    "    url = f\"https://api.spotify.com/v1/users/{user_id}/playlists?offset=0&limit={count}\"\n",
    "    headers = get_auth_header(token)\n",
    "    \n",
    "    result = get(url, headers=headers)\n",
    "    json_result = result.json()\n",
    "    return json_result['items']"
   ]
  },
  {
   "cell_type": "code",
   "execution_count": 16,
   "id": "6e279f52",
   "metadata": {},
   "outputs": [],
   "source": [
    "def get_playlist_tracks(token, playlist_id):\n",
    "    url = f\"https://api.spotify.com/v1/playlists/{playlist_id}/tracks\"\n",
    "    headers = get_auth_header(token)\n",
    "    \n",
    "    result = get(url, headers=headers)\n",
    "    json_result = result.json()\n",
    "    return json_result['items']"
   ]
  },
  {
   "cell_type": "code",
   "execution_count": 17,
   "id": "34efced1",
   "metadata": {},
   "outputs": [],
   "source": [
    "def get_track(token, track_id):\n",
    "    url = f\"https://api.spotify.com/v1/tracks/{track_id}\"\n",
    "    headers = get_auth_header(token)\n",
    "    \n",
    "    result = get(url, headers=headers)\n",
    "    json_result = result.json()\n",
    "    return json_result"
   ]
  },
  {
   "cell_type": "code",
   "execution_count": 18,
   "id": "806a3d0a",
   "metadata": {},
   "outputs": [],
   "source": [
    "def get_genres(token):\n",
    "    url = f\"https://api.spotify.com/v1/recommendations/available-genre-seeds\"\n",
    "    headers = get_auth_header(token)\n",
    "    \n",
    "    result = get(url, headers=headers)\n",
    "    json_result = result.json()\n",
    "    return json_result"
   ]
  },
  {
   "cell_type": "code",
   "execution_count": 19,
   "id": "38dec319",
   "metadata": {},
   "outputs": [],
   "source": [
    "def get_artist_by_id(token, artist_id):\n",
    "    url = f\"https://api.spotify.com/v1/artists/{artist_id}\"\n",
    "    headers = get_auth_header(token)\n",
    "    \n",
    "    result = get(url, headers=headers)\n",
    "    json_result = result.json()\n",
    "    return json_result"
   ]
  },
  {
   "cell_type": "code",
   "execution_count": 20,
   "id": "94937d4c",
   "metadata": {},
   "outputs": [
    {
     "name": "stdout",
     "output_type": "stream",
     "text": [
      "{'error': {'status': 401, 'message': 'Unauthorized.'}}\n"
     ]
    }
   ],
   "source": [
    "print(get_my_profile(token))"
   ]
  },
  {
   "cell_type": "markdown",
   "id": "6041293e",
   "metadata": {},
   "source": [
    "-----------------------------"
   ]
  },
  {
   "cell_type": "code",
   "execution_count": 21,
   "id": "8489d01c",
   "metadata": {},
   "outputs": [],
   "source": [
    "import spotipy\n",
    "import spotipy.util as util\n",
    "from spotipy.oauth2 import SpotifyOAuth"
   ]
  },
  {
   "cell_type": "code",
   "execution_count": 22,
   "id": "45c71d0a",
   "metadata": {},
   "outputs": [],
   "source": [
    "scope = \"user-library-read user-modify-playback-state user-read-playback-state user-read-currently-playing\"\n",
    "auth_manager = spotipy.SpotifyClientCredentials(client_id=client_id, client_secret=client_secret)\n",
    "sp = spotipy.Spotify(auth_manager=auth_manager)"
   ]
  },
  {
   "cell_type": "code",
   "execution_count": 23,
   "id": "df7ac1e2",
   "metadata": {},
   "outputs": [],
   "source": [
    "token = util.prompt_for_user_token(scope, client_id= client_id, client_secret=client_secret, redirect_uri='http://localhost:8881/')\n",
    "sp = spotipy.Spotify(auth=token)"
   ]
  },
  {
   "cell_type": "code",
   "execution_count": 24,
   "id": "5fefe1ae",
   "metadata": {},
   "outputs": [
    {
     "data": {
      "text/plain": [
       "{'Techno Music 2023 💊': ['18vUeZ9BdtMRNV6gI8RnR6',\n",
       "  'https://i.scdn.co/image/ab67706c0000bebb9d3e27d776112e747409b54b'],\n",
       " 'Rap-Trap': ['0AVDtn9N3W7tnDR52qms1d',\n",
       "  'https://mosaic.scdn.co/640/ab67616d0000b273806c160566580d6335d1f16cab67616d0000b273b1c4b76e23414c9f20242268ab67616d0000b273c027ad28821777b00dcaa888ab67616d0000b273f907de96b9a4fbc04accc0d5'],\n",
       " 'Good Vibes': ['37i9dQZF1DWYBO1MoTDhZI',\n",
       "  'https://i.scdn.co/image/ab67706f000000037dc2a0fb4bfe0d07294f685e'],\n",
       " ' Ed Sheeran: Eyes Closed & The Complete Collection': ['0uFhZpiffd4h8fcBgw42i1',\n",
       "  'https://i.scdn.co/image/ab67706c0000bebb21952e6804850221ee7bb8f7']}"
      ]
     },
     "execution_count": 24,
     "metadata": {},
     "output_type": "execute_result"
    }
   ],
   "source": [
    "playlist_id_pair = {}\n",
    "for playlist in sp.current_user_playlists()[\"items\"]:\n",
    "    playlist_id_pair[playlist[\"name\"]] = [playlist[\"id\"], playlist[\"images\"][0][\"url\"]]\n",
    "\n",
    "playlist_id_pair"
   ]
  },
  {
   "cell_type": "code",
   "execution_count": 25,
   "id": "01ac8f90",
   "metadata": {},
   "outputs": [],
   "source": [
    "def playlist_to_df(playlist_id):\n",
    "    playlist_df = pd.DataFrame()\n",
    "    \n",
    "    features = list(sp.audio_features(\"1yxgsra98r3qAtxqiGZPiX\")[0].keys())[:11]\n",
    "    feature_df = pd.DataFrame([features])\n",
    "    feature_df.columns = feature_df.iloc[0]\n",
    "    feature_df = feature_df[1:]\n",
    "\n",
    "    for i, track in enumerate(sp.playlist(playlist_id)[\"tracks\"][\"items\"]):\n",
    "        playlist_df.loc[i, 'track_id'] = track[\"track\"][\"id\"]\n",
    "        playlist_df.loc[i, 'track'] = track[\"track\"][\"name\"]\n",
    "        \n",
    "        playlist_df.loc[i, 'artist_id'] = track[\"track\"][\"artists\"][0][\"id\"]\n",
    "        playlist_df.loc[i, 'artist'] = track[\"track\"][\"artists\"][0][\"name\"]\n",
    "        \n",
    "        playlist_df.loc[i, 'popularity'] = track[\"track\"][\"popularity\"]\n",
    "        playlist_df.loc[i, 'duration_ms'] = track[\"track\"][\"duration_ms\"]\n",
    "        playlist_df.loc[i, 'added_at'] = track[\"added_at\"]\n",
    "        \n",
    "        \n",
    "        feature_df = feature_df.append(sp.audio_features(track[\"track\"][\"id\"]), ignore_index=True).iloc[: , :-7]\n",
    "    \n",
    "    playlist_df['added_at'] = pd.to_datetime(playlist_df['added_at'])\n",
    "    final_playlist_df = pd.concat([playlist_df, feature_df], axis=1)\n",
    "        \n",
    "    return final_playlist_df"
   ]
  },
  {
   "cell_type": "code",
   "execution_count": 26,
   "id": "63593f37",
   "metadata": {},
   "outputs": [
    {
     "name": "stderr",
     "output_type": "stream",
     "text": [
      "HTTP Error for PUT to https://api.spotify.com/v1/me/player/pause with Params: {} returned 401 due to Permissions missing\n"
     ]
    },
    {
     "ename": "SpotifyException",
     "evalue": "http status: 401, code:-1 - https://api.spotify.com/v1/me/player/pause:\n Permissions missing, reason: None",
     "output_type": "error",
     "traceback": [
      "\u001b[0;31m---------------------------------------------------------------------------\u001b[0m",
      "\u001b[0;31mHTTPError\u001b[0m                                 Traceback (most recent call last)",
      "File \u001b[0;32m~/Library/Python/3.8/lib/python/site-packages/spotipy/client.py:269\u001b[0m, in \u001b[0;36mSpotify._internal_call\u001b[0;34m(self, method, url, payload, params)\u001b[0m\n\u001b[1;32m    264\u001b[0m response \u001b[38;5;241m=\u001b[39m \u001b[38;5;28mself\u001b[39m\u001b[38;5;241m.\u001b[39m_session\u001b[38;5;241m.\u001b[39mrequest(\n\u001b[1;32m    265\u001b[0m     method, url, headers\u001b[38;5;241m=\u001b[39mheaders, proxies\u001b[38;5;241m=\u001b[39m\u001b[38;5;28mself\u001b[39m\u001b[38;5;241m.\u001b[39mproxies,\n\u001b[1;32m    266\u001b[0m     timeout\u001b[38;5;241m=\u001b[39m\u001b[38;5;28mself\u001b[39m\u001b[38;5;241m.\u001b[39mrequests_timeout, \u001b[38;5;241m*\u001b[39m\u001b[38;5;241m*\u001b[39margs\n\u001b[1;32m    267\u001b[0m )\n\u001b[0;32m--> 269\u001b[0m \u001b[43mresponse\u001b[49m\u001b[38;5;241;43m.\u001b[39;49m\u001b[43mraise_for_status\u001b[49m\u001b[43m(\u001b[49m\u001b[43m)\u001b[49m\n\u001b[1;32m    270\u001b[0m results \u001b[38;5;241m=\u001b[39m response\u001b[38;5;241m.\u001b[39mjson()\n",
      "File \u001b[0;32m~/Library/Python/3.8/lib/python/site-packages/requests/models.py:1021\u001b[0m, in \u001b[0;36mResponse.raise_for_status\u001b[0;34m(self)\u001b[0m\n\u001b[1;32m   1020\u001b[0m \u001b[38;5;28;01mif\u001b[39;00m http_error_msg:\n\u001b[0;32m-> 1021\u001b[0m     \u001b[38;5;28;01mraise\u001b[39;00m HTTPError(http_error_msg, response\u001b[38;5;241m=\u001b[39m\u001b[38;5;28mself\u001b[39m)\n",
      "\u001b[0;31mHTTPError\u001b[0m: 401 Client Error: Unauthorized for url: https://api.spotify.com/v1/me/player/pause",
      "\nDuring handling of the above exception, another exception occurred:\n",
      "\u001b[0;31mSpotifyException\u001b[0m                          Traceback (most recent call last)",
      "Input \u001b[0;32mIn [26]\u001b[0m, in \u001b[0;36m<module>\u001b[0;34m\u001b[0m\n\u001b[1;32m      1\u001b[0m \u001b[38;5;66;03m# sp.me()\u001b[39;00m\n\u001b[0;32m----> 2\u001b[0m \u001b[43msp\u001b[49m\u001b[38;5;241;43m.\u001b[39;49m\u001b[43mpause_playback\u001b[49m\u001b[43m(\u001b[49m\u001b[43m)\u001b[49m\n",
      "File \u001b[0;32m~/Library/Python/3.8/lib/python/site-packages/spotipy/client.py:1829\u001b[0m, in \u001b[0;36mSpotify.pause_playback\u001b[0;34m(self, device_id)\u001b[0m\n\u001b[1;32m   1823\u001b[0m \u001b[38;5;28;01mdef\u001b[39;00m \u001b[38;5;21mpause_playback\u001b[39m(\u001b[38;5;28mself\u001b[39m, device_id\u001b[38;5;241m=\u001b[39m\u001b[38;5;28;01mNone\u001b[39;00m):\n\u001b[1;32m   1824\u001b[0m     \u001b[38;5;124;03m\"\"\" Pause user's playback.\u001b[39;00m\n\u001b[1;32m   1825\u001b[0m \n\u001b[1;32m   1826\u001b[0m \u001b[38;5;124;03m        Parameters:\u001b[39;00m\n\u001b[1;32m   1827\u001b[0m \u001b[38;5;124;03m            - device_id - device target for playback\u001b[39;00m\n\u001b[1;32m   1828\u001b[0m \u001b[38;5;124;03m    \"\"\"\u001b[39;00m\n\u001b[0;32m-> 1829\u001b[0m     \u001b[38;5;28;01mreturn\u001b[39;00m \u001b[38;5;28;43mself\u001b[39;49m\u001b[38;5;241;43m.\u001b[39;49m\u001b[43m_put\u001b[49m\u001b[43m(\u001b[49m\u001b[38;5;28;43mself\u001b[39;49m\u001b[38;5;241;43m.\u001b[39;49m\u001b[43m_append_device_id\u001b[49m\u001b[43m(\u001b[49m\u001b[38;5;124;43m\"\u001b[39;49m\u001b[38;5;124;43mme/player/pause\u001b[39;49m\u001b[38;5;124;43m\"\u001b[39;49m\u001b[43m,\u001b[49m\u001b[43m \u001b[49m\u001b[43mdevice_id\u001b[49m\u001b[43m)\u001b[49m\u001b[43m)\u001b[49m\n",
      "File \u001b[0;32m~/Library/Python/3.8/lib/python/site-packages/spotipy/client.py:336\u001b[0m, in \u001b[0;36mSpotify._put\u001b[0;34m(self, url, args, payload, **kwargs)\u001b[0m\n\u001b[1;32m    334\u001b[0m \u001b[38;5;28;01mif\u001b[39;00m args:\n\u001b[1;32m    335\u001b[0m     kwargs\u001b[38;5;241m.\u001b[39mupdate(args)\n\u001b[0;32m--> 336\u001b[0m \u001b[38;5;28;01mreturn\u001b[39;00m \u001b[38;5;28;43mself\u001b[39;49m\u001b[38;5;241;43m.\u001b[39;49m\u001b[43m_internal_call\u001b[49m\u001b[43m(\u001b[49m\u001b[38;5;124;43m\"\u001b[39;49m\u001b[38;5;124;43mPUT\u001b[39;49m\u001b[38;5;124;43m\"\u001b[39;49m\u001b[43m,\u001b[49m\u001b[43m \u001b[49m\u001b[43murl\u001b[49m\u001b[43m,\u001b[49m\u001b[43m \u001b[49m\u001b[43mpayload\u001b[49m\u001b[43m,\u001b[49m\u001b[43m \u001b[49m\u001b[43mkwargs\u001b[49m\u001b[43m)\u001b[49m\n",
      "File \u001b[0;32m~/Library/Python/3.8/lib/python/site-packages/spotipy/client.py:291\u001b[0m, in \u001b[0;36mSpotify._internal_call\u001b[0;34m(self, method, url, payload, params)\u001b[0m\n\u001b[1;32m    284\u001b[0m         reason \u001b[38;5;241m=\u001b[39m \u001b[38;5;28;01mNone\u001b[39;00m\n\u001b[1;32m    286\u001b[0m     logger\u001b[38;5;241m.\u001b[39merror(\n\u001b[1;32m    287\u001b[0m         \u001b[38;5;124m'\u001b[39m\u001b[38;5;124mHTTP Error for \u001b[39m\u001b[38;5;132;01m%s\u001b[39;00m\u001b[38;5;124m to \u001b[39m\u001b[38;5;132;01m%s\u001b[39;00m\u001b[38;5;124m with Params: \u001b[39m\u001b[38;5;132;01m%s\u001b[39;00m\u001b[38;5;124m returned \u001b[39m\u001b[38;5;132;01m%s\u001b[39;00m\u001b[38;5;124m due to \u001b[39m\u001b[38;5;132;01m%s\u001b[39;00m\u001b[38;5;124m'\u001b[39m,\n\u001b[1;32m    288\u001b[0m         method, url, args\u001b[38;5;241m.\u001b[39mget(\u001b[38;5;124m\"\u001b[39m\u001b[38;5;124mparams\u001b[39m\u001b[38;5;124m\"\u001b[39m), response\u001b[38;5;241m.\u001b[39mstatus_code, msg\n\u001b[1;32m    289\u001b[0m     )\n\u001b[0;32m--> 291\u001b[0m     \u001b[38;5;28;01mraise\u001b[39;00m SpotifyException(\n\u001b[1;32m    292\u001b[0m         response\u001b[38;5;241m.\u001b[39mstatus_code,\n\u001b[1;32m    293\u001b[0m         \u001b[38;5;241m-\u001b[39m\u001b[38;5;241m1\u001b[39m,\n\u001b[1;32m    294\u001b[0m         \u001b[38;5;124m\"\u001b[39m\u001b[38;5;132;01m%s\u001b[39;00m\u001b[38;5;124m:\u001b[39m\u001b[38;5;130;01m\\n\u001b[39;00m\u001b[38;5;124m \u001b[39m\u001b[38;5;132;01m%s\u001b[39;00m\u001b[38;5;124m\"\u001b[39m \u001b[38;5;241m%\u001b[39m (response\u001b[38;5;241m.\u001b[39murl, msg),\n\u001b[1;32m    295\u001b[0m         reason\u001b[38;5;241m=\u001b[39mreason,\n\u001b[1;32m    296\u001b[0m         headers\u001b[38;5;241m=\u001b[39mresponse\u001b[38;5;241m.\u001b[39mheaders,\n\u001b[1;32m    297\u001b[0m     )\n\u001b[1;32m    298\u001b[0m \u001b[38;5;28;01mexcept\u001b[39;00m requests\u001b[38;5;241m.\u001b[39mexceptions\u001b[38;5;241m.\u001b[39mRetryError \u001b[38;5;28;01mas\u001b[39;00m retry_error:\n\u001b[1;32m    299\u001b[0m     request \u001b[38;5;241m=\u001b[39m retry_error\u001b[38;5;241m.\u001b[39mrequest\n",
      "\u001b[0;31mSpotifyException\u001b[0m: http status: 401, code:-1 - https://api.spotify.com/v1/me/player/pause:\n Permissions missing, reason: None"
     ]
    }
   ],
   "source": [
    "# sp.me()\n",
    "sp.pause_playback()"
   ]
  },
  {
   "cell_type": "code",
   "execution_count": null,
   "id": "45087d8d",
   "metadata": {
    "scrolled": true
   },
   "outputs": [],
   "source": [
    "playlist_df = playlist_to_df(playlist_id_pair['Techno Music 2023 💊'][0])\n",
    "playlist_df"
   ]
  },
  {
   "cell_type": "code",
   "execution_count": null,
   "id": "66dea04f",
   "metadata": {
    "scrolled": false
   },
   "outputs": [],
   "source": [
    "f_list = {}\n",
    "    \n",
    "t = playlist_df.iloc[:,-11:]\n",
    "for column in t:\n",
    "    if column == \"key\" or column == \"mode\":\n",
    "        v = int(format(t[column].mean(), \".0f\"))\n",
    "    else:\n",
    "        v = format(t[column].mean(), \".3f\")\n",
    "    f_list[column] = v\n",
    "    \n",
    "    \n",
    "print(f_list)"
   ]
  },
  {
   "cell_type": "code",
   "execution_count": null,
   "id": "96cfcced",
   "metadata": {},
   "outputs": [],
   "source": [
    "# get_recommendation(token, playlist_df, 10, \"GB\")"
   ]
  },
  {
   "cell_type": "code",
   "execution_count": null,
   "id": "5b633659",
   "metadata": {},
   "outputs": [],
   "source": [
    "track_recomm = sp.recommendations([playlist_df[\"artist_id\"][0]], [], [],\n",
    "                                  target_danceability=f_list[\"danceability\"],\n",
    "                                  target_energy=f_list[\"energy\"],\n",
    "                                  target_loudness=f_list[\"loudness\"],\n",
    "                                  target_speechiness=f_list[\"speechiness\"],\n",
    "                                  target_acousticness=f_list[\"acousticness\"],\n",
    "                                  target_instrumentalness=f_list[\"instrumentalness\"],\n",
    "                                  target_liveness=f_list[\"liveness\"],\n",
    "                                  target_valence=f_list[\"valence\"],\n",
    "                                  target_tempo=f_list[\"tempo\"],\n",
    "                                  target_key=f_list[\"key\"],\n",
    "                                  target_mode=f_list[\"mode\"],\n",
    "                                 )['tracks']\n",
    "\n",
    "\n",
    "for i, t in enumerate(track_recomm):\n",
    "    if t['name'] not in playlist_df['track'].values:\n",
    "        print(f\"{i}. Track: {t['name']} -- artist:{t['artists'][0]['name']}\")\n",
    "        print(\"\\n\")"
   ]
  },
  {
   "cell_type": "code",
   "execution_count": null,
   "id": "779d0479",
   "metadata": {},
   "outputs": [],
   "source": []
  }
 ],
 "metadata": {
  "kernelspec": {
   "display_name": "Python 3 (ipykernel)",
   "language": "python",
   "name": "python3"
  },
  "language_info": {
   "codemirror_mode": {
    "name": "ipython",
    "version": 3
   },
   "file_extension": ".py",
   "mimetype": "text/x-python",
   "name": "python",
   "nbconvert_exporter": "python",
   "pygments_lexer": "ipython3",
   "version": "3.8.6"
  }
 },
 "nbformat": 4,
 "nbformat_minor": 5
}
